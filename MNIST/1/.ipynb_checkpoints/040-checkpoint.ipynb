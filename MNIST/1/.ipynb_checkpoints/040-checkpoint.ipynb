{
 "cells": [
  {
   "cell_type": "markdown",
   "metadata": {},
   "source": [
    "# Отчет о создании и обучении на датасете MNIST модели CNN (гипотеза 1, реализация 1)\n",
    "\n",
    "\n",
    "\n",
    "\n",
    "\n",
    "\n",
    "\n",
    "\n"
   ]
  },
  {
   "cell_type": "markdown",
   "metadata": {},
   "source": [
    "## Содержание\n",
    "\n",
    "- Список терминов, специфичных для темы отчета\n",
    "- Введение\n",
    "- 1 Создание и обучение модели\n",
    " - 1.1 Загрузка датасета\n",
    " - 1.2 Создание модели\n",
    " - 1.3 Обучение модели\n",
    " - 1.4 Сохранение модели на диск\n",
    "- 2 Рекомендации по дальнейшему улучшению/развитию модели\n",
    "- Ссылки"
   ]
  },
  {
   "cell_type": "markdown",
   "metadata": {},
   "source": [
    "## Список терминов, специфичных для темы отчета\n",
    "\n",
    "См. раздел \"Машинное обучение\" документа \"Словарь терминов, специфичных для выполняемых работ и изучаемых материалов в период с 25 сентября 2020 г. по 25 ноября 2020 г.\".\n"
   ]
  },
  {
   "cell_type": "markdown",
   "metadata": {},
   "source": [
    "## Введение"
   ]
  },
  {
   "cell_type": "markdown",
   "metadata": {},
   "source": [
    "В настоящем отчете приведен код, соответствующий созданию и обучению модели CNN на датасете MNIST, а также рекомендации по дальнейшему улучшению/развитию модели. Используемый язык программирования – Python. Для создания и обучения модели используются библиотеки MXNet и Gluon."
   ]
  },
  {
   "cell_type": "markdown",
   "metadata": {},
   "source": [
    "## 1 Создание и обучение модели"
   ]
  },
  {
   "cell_type": "markdown",
   "metadata": {},
   "source": [
    "Импортирование необходимых модулей и функций:"
   ]
  },
  {
   "cell_type": "code",
   "execution_count": 6,
   "metadata": {},
   "outputs": [],
   "source": [
    "import mxnet as mx\n",
    "from mxnet.optimizer import Adam\n",
    "from mxnet.gluon import nn\n",
    "from mxnet import autograd as ag\n",
    "from mxnet import gluon"
   ]
  },
  {
   "cell_type": "markdown",
   "metadata": {},
   "source": [
    "Установка вычислительного контекста (для использования при обучении видеокарты, если это возможно):"
   ]
  },
  {
   "cell_type": "code",
   "execution_count": 7,
   "metadata": {},
   "outputs": [
    {
     "name": "stdout",
     "output_type": "stream",
     "text": [
      "context: [gpu(0)]\n"
     ]
    }
   ],
   "source": [
    "ctx = [mx.gpu() if mx.test_utils.list_gpus() else mx.cpu()]\n",
    "print('context:', ctx)"
   ]
  },
  {
   "cell_type": "markdown",
   "metadata": {},
   "source": [
    "### 1.1 Загрузка датасета"
   ]
  },
  {
   "cell_type": "markdown",
   "metadata": {},
   "source": [
    "Загрузка датасета и установка размера батча равным 200:"
   ]
  },
  {
   "cell_type": "code",
   "execution_count": 8,
   "metadata": {},
   "outputs": [],
   "source": [
    "mnist = mx.test_utils.get_mnist()\n",
    "\n",
    "batch_size = 200\n",
    "train_data = mx.io.NDArrayIter(mnist['train_data'], mnist['train_label'], batch_size, shuffle=True)\n",
    "val_data = mx.io.NDArrayIter(mnist['test_data'], mnist['test_label'], batch_size)"
   ]
  },
  {
   "cell_type": "markdown",
   "metadata": {},
   "source": [
    "### 1.2 Создание модели"
   ]
  },
  {
   "cell_type": "markdown",
   "metadata": {},
   "source": [
    "Создание модели, состоящей из 6 слоев:\n",
    "1. Сверточный слой с параметрами:\n",
    "\t- Количество каналов: 10\n",
    "\t- Размер ядра свертки: 5х5\n",
    "\t- Функция активации: гиперболический тангенс\n",
    "2. Слой пулинга с параметрами:\n",
    "\t- Размер ядра пулинга: 2х2\n",
    "\t- Шаг: 2\n",
    "3. Сверточный слой\n",
    "\t- Количество каналов: 25\n",
    "\t- Размер ядра свертки: 5х5\n",
    "\t- Функция активации: гиперболический тангенс\n",
    "4. Слой пулинга с параметрами:\n",
    "\t- Размер ядра пулинга: 2х2\n",
    "\t- Шаг: 2\n",
    "5. Полносвязный слой с параметрами:\n",
    "\t- Количество нейронов: **40**\n",
    "\t- Функция активации: гиперболический тангенс\n",
    "6. Полносвязный слой с параметрами:\n",
    "\t- Количество нейронов: 10\n",
    "\t- Функция активации: гиперболический тангенс"
   ]
  },
  {
   "cell_type": "code",
   "execution_count": 9,
   "metadata": {},
   "outputs": [],
   "source": [
    "net = nn.HybridSequential()\n",
    "with net.name_scope():\n",
    "    net.add(nn.Conv2D(10, kernel_size=5, activation='tanh'))\n",
    "    net.add(nn.MaxPool2D(pool_size=2, strides=2))\n",
    "    net.add(nn.Conv2D(25, kernel_size=5, activation='tanh'))\n",
    "    net.add(nn.MaxPool2D(pool_size=2, strides=2))\n",
    "    net.add(nn.Dense(40, activation='tanh'))\n",
    "    #                ^^--- 20 -> 40\n",
    "    net.add(nn.Dense(10, activation='tanh'))\n",
    "net.hybridize()"
   ]
  },
  {
   "cell_type": "markdown",
   "metadata": {},
   "source": [
    "### 1.3 Обучение модели"
   ]
  },
  {
   "cell_type": "markdown",
   "metadata": {},
   "source": [
    "Для инициализации сети используется метод Завьера (Xavier). В качестве функции потерь используется SCE (Softmax Cross-Entropy loss). В качестве оптимизатора используется градиентный спуск с инерцией. Темп обучения (learning rate) устанавливается равным 0.6. Обучение производится в течение 40 эпох."
   ]
  },
  {
   "cell_type": "code",
   "execution_count": 10,
   "metadata": {},
   "outputs": [
    {
     "name": "stdout",
     "output_type": "stream",
     "text": [
      "epoch  1: \t 92.30% - train set accuracy\n",
      "\t\t 97.39% - validation set accuracy\n",
      "\n",
      "epoch  2: \t 97.55% - train set accuracy\n",
      "\t\t 98.23% - validation set accuracy\n",
      "\n",
      "epoch  3: \t 98.28% - train set accuracy\n",
      "\t\t 98.53% - validation set accuracy\n",
      "\n",
      "epoch  4: \t 98.62% - train set accuracy\n",
      "\t\t 98.64% - validation set accuracy\n",
      "\n",
      "epoch  5: \t 98.88% - train set accuracy\n",
      "\t\t 98.64% - validation set accuracy\n",
      "\n",
      "epoch  6: \t 99.01% - train set accuracy\n",
      "\t\t 98.37% - validation set accuracy\n",
      "\n",
      "epoch  7: \t 99.12% - train set accuracy\n",
      "\t\t 98.85% - validation set accuracy\n",
      "\n",
      "epoch  8: \t 99.24% - train set accuracy\n",
      "\t\t 98.83% - validation set accuracy\n",
      "\n",
      "epoch  9: \t 99.32% - train set accuracy\n",
      "\t\t 98.83% - validation set accuracy\n",
      "\n",
      "epoch 10: \t 99.36% - train set accuracy\n",
      "\t\t 98.93% - validation set accuracy\n",
      "\n",
      "epoch 11: \t 99.44% - train set accuracy\n",
      "\t\t 99.02% - validation set accuracy\n",
      "saved epoch 11\n",
      "\n",
      "epoch 12: \t 99.49% - train set accuracy\n",
      "\t\t 98.97% - validation set accuracy\n",
      "\n",
      "epoch 13: \t 99.53% - train set accuracy\n",
      "\t\t 98.99% - validation set accuracy\n",
      "\n",
      "epoch 14: \t 99.53% - train set accuracy\n",
      "\t\t 98.96% - validation set accuracy\n",
      "\n",
      "epoch 15: \t 99.59% - train set accuracy\n",
      "\t\t 98.97% - validation set accuracy\n",
      "\n",
      "epoch 16: \t 99.62% - train set accuracy\n",
      "\t\t 98.99% - validation set accuracy\n",
      "\n",
      "epoch 17: \t 99.63% - train set accuracy\n",
      "\t\t 98.99% - validation set accuracy\n",
      "\n",
      "epoch 18: \t 99.67% - train set accuracy\n",
      "\t\t 98.98% - validation set accuracy\n",
      "\n",
      "epoch 19: \t 99.69% - train set accuracy\n",
      "\t\t 99.01% - validation set accuracy\n",
      "\n",
      "epoch 20: \t 99.71% - train set accuracy\n",
      "\t\t 99.06% - validation set accuracy\n",
      "saved epoch 20\n",
      "\n",
      "epoch 21: \t 99.73% - train set accuracy\n",
      "\t\t 98.96% - validation set accuracy\n",
      "\n",
      "epoch 22: \t 99.71% - train set accuracy\n",
      "\t\t 99.01% - validation set accuracy\n",
      "\n",
      "epoch 23: \t 99.73% - train set accuracy\n",
      "\t\t 99.01% - validation set accuracy\n",
      "\n",
      "epoch 24: \t 99.74% - train set accuracy\n",
      "\t\t 99.02% - validation set accuracy\n",
      "\n",
      "epoch 25: \t 99.76% - train set accuracy\n",
      "\t\t 99.01% - validation set accuracy\n",
      "\n",
      "epoch 26: \t 99.77% - train set accuracy\n",
      "\t\t 99.00% - validation set accuracy\n",
      "\n",
      "epoch 27: \t 99.77% - train set accuracy\n",
      "\t\t 98.98% - validation set accuracy\n",
      "\n",
      "epoch 28: \t 99.79% - train set accuracy\n",
      "\t\t 99.00% - validation set accuracy\n",
      "\n",
      "epoch 29: \t 99.78% - train set accuracy\n",
      "\t\t 98.98% - validation set accuracy\n",
      "\n",
      "epoch 30: \t 99.79% - train set accuracy\n",
      "\t\t 99.00% - validation set accuracy\n",
      "\n",
      "epoch 31: \t 99.80% - train set accuracy\n",
      "\t\t 99.00% - validation set accuracy\n",
      "\n",
      "epoch 32: \t 99.80% - train set accuracy\n",
      "\t\t 99.02% - validation set accuracy\n",
      "\n",
      "epoch 33: \t 99.80% - train set accuracy\n",
      "\t\t 98.95% - validation set accuracy\n",
      "\n",
      "epoch 34: \t 99.80% - train set accuracy\n",
      "\t\t 98.99% - validation set accuracy\n",
      "\n",
      "epoch 35: \t 99.80% - train set accuracy\n",
      "\t\t 99.00% - validation set accuracy\n",
      "\n",
      "epoch 36: \t 99.81% - train set accuracy\n",
      "\t\t 99.01% - validation set accuracy\n",
      "\n",
      "epoch 37: \t 99.81% - train set accuracy\n",
      "\t\t 99.03% - validation set accuracy\n",
      "\n",
      "epoch 38: \t 99.81% - train set accuracy\n",
      "\t\t 98.99% - validation set accuracy\n",
      "\n",
      "epoch 39: \t 99.81% - train set accuracy\n",
      "\t\t 99.00% - validation set accuracy\n",
      "\n",
      "epoch 40: \t 99.81% - train set accuracy\n",
      "\t\t 98.99% - validation set accuracy\n",
      "\n",
      "Best result: 99.06%\n",
      "CPU times: user 43.2 s, sys: 6.73 s, total: 49.9 s\n",
      "Wall time: 33.6 s\n"
     ]
    }
   ],
   "source": [
    "%%time\n",
    "\n",
    "def getValidationAcc():\n",
    "    # Use Accuracy as the evaluation metric.\n",
    "    metric = mx.metric.Accuracy()\n",
    "    # Reset the validation data iterator.\n",
    "    val_data.reset()\n",
    "    # Loop over the validation data iterator.\n",
    "    for batch in val_data:\n",
    "        # Splits validation data into multiple slices along batch_axis\n",
    "        # and copy each slice into a context.\n",
    "        data = gluon.utils.split_and_load(batch.data[0], ctx_list=ctx, batch_axis=0)\n",
    "        # Splits validation label into multiple slices along batch_axis\n",
    "        # and copy each slice into a context.\n",
    "        label = gluon.utils.split_and_load(batch.label[0], ctx_list=ctx, batch_axis=0)\n",
    "        outputs = []\n",
    "        for x in data:\n",
    "            outputs.append(net(x))\n",
    "        # Updates internal evaluation\n",
    "        metric.update(label, outputs)\n",
    "    return metric.get()[1]\n",
    "\n",
    "validationAccToTrain = 0.99\n",
    "epochsToTrain = 40\n",
    "\n",
    "def train(net):\n",
    "    # Use Accuracy as the evaluation metric.\n",
    "    metric = mx.metric.Accuracy()\n",
    "    # Initialize the parameters with Xavier initializer\n",
    "    net.collect_params().initialize(mx.init.Xavier(magnitude=2.24), ctx=ctx)\n",
    "    # Use cross entropy loss\n",
    "    softmax_cross_entropy = gluon.loss.SoftmaxCrossEntropyLoss()\n",
    "    # Use Adam optimizer\n",
    "    trainer = gluon.Trainer(net.collect_params(), 'sgd', {'learning_rate': 0.6})\n",
    "    validationAcc = None\n",
    "    maxValidationAcc = 0\n",
    "\n",
    "    for i in range(epochsToTrain):\n",
    "        # Reset the train data iterator.\n",
    "        train_data.reset()\n",
    "        # Loop over the train data iterator.\n",
    "        for batch in train_data:\n",
    "            # Splits train data into multiple slices along batch_axis\n",
    "            # and copy each slice into a context.\n",
    "            data = gluon.utils.split_and_load(batch.data[0], ctx_list=ctx, batch_axis=0)\n",
    "            # Splits train labels into multiple slices along batch_axis\n",
    "            # and copy each slice into a context.\n",
    "            label = gluon.utils.split_and_load(batch.label[0], ctx_list=ctx, batch_axis=0)\n",
    "            outputs = []\n",
    "            # Inside training scope\n",
    "            with ag.record():\n",
    "                for x, y in zip(data, label):\n",
    "                    z = net(x)\n",
    "                    # Computes softmax cross entropy loss.\n",
    "                    loss = softmax_cross_entropy(z, y)\n",
    "                    # Backpropogate the error for one iteration.\n",
    "                    loss.backward()\n",
    "                    outputs.append(z)\n",
    "            # Updates internal evaluation\n",
    "            metric.update(label, outputs)\n",
    "            # Make one step of parameter update. Trainer needs to know the\n",
    "            # batch size of data to normalize the gradient by 1/batch_size.\n",
    "            trainer.step(batch.data[0].shape[0])\n",
    "        # Gets the evaluation result.\n",
    "        name, acc = metric.get()\n",
    "        # Reset evaluation result to initial state.\n",
    "        metric.reset()\n",
    "        validationAcc = getValidationAcc()\n",
    "        epoch = i + 1\n",
    "        print('epoch', ('{:2.0f}:').format(epoch), '\\t', \"{:.2f}%\".format(acc * 100), '- train set accuracy'\n",
    "              '\\n\\t\\t', \"{:.2f}%\".format(validationAcc * 100), '- validation set accuracy')\n",
    "        if (validationAcc >= validationAccToTrain) and (validationAcc > maxValidationAcc):\n",
    "            maxValidationAcc = validationAcc\n",
    "            net.export('exported/040/mnist', epoch=epoch)\n",
    "            print('saved epoch', epoch)\n",
    "        print()\n",
    "    print('Best result: {:.2f}%'.format(maxValidationAcc * 100))\n",
    "\n",
    "train(net)"
   ]
  },
  {
   "cell_type": "markdown",
   "metadata": {},
   "source": [
    "Максимальная достигнутая точность на проверочной части датасета составляет **99.06%** после 20-ой эпохи. Соответствующая этой эпохе точность на тренировочном датасете составляет **99.71%**."
   ]
  },
  {
   "cell_type": "markdown",
   "metadata": {},
   "source": [
    "### 1.4 Сохранение модели на диск"
   ]
  },
  {
   "cell_type": "markdown",
   "metadata": {},
   "source": [
    "Обучение модели выполняется посредством функции `train` (см. раздел 1.3). Функция `train` использует глобальные переменные `validationAccToTrain` и `epochsToTrain`. Значение глобальной переменной `validationAccToTrain` соответствует точности (accuracy) на проверочной части датасета, при достижении которой и одновременно максимальной точности в ходе обучения, необходимо сохранить архитектуру и параметры модели на диск. Сохранение модели на диск выполняется посредством функции `net.export`, при этом создаются/перезаписываются два файла: **mnist-symbol.json**, содержащий информацию, определяющую архитектуру модели, и **mnist-<номер эпохи>.params**, содержащий параметры модели, полученные в ходе обучения и соответствующие эпохе <номер эпохи>. Значение глобальной переменной `epochsToTrain` соответствует количеству эпох, в течение которых необходимо проводить обучение."
   ]
  },
  {
   "cell_type": "markdown",
   "metadata": {},
   "source": [
    "## Ссылки"
   ]
  },
  {
   "cell_type": "markdown",
   "metadata": {},
   "source": [
    "1. Официальный сайт mxnet: https://mxnet.apache.org/"
   ]
  }
 ],
 "metadata": {
  "kernelspec": {
   "display_name": "Python 3",
   "language": "python",
   "name": "python3"
  },
  "language_info": {
   "codemirror_mode": {
    "name": "ipython",
    "version": 3
   },
   "file_extension": ".py",
   "mimetype": "text/x-python",
   "name": "python",
   "nbconvert_exporter": "python",
   "pygments_lexer": "ipython3",
   "version": "3.8.3"
  }
 },
 "nbformat": 4,
 "nbformat_minor": 4
}
